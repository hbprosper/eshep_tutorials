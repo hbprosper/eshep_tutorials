{
 "cells": [
  {
   "cell_type": "markdown",
   "metadata": {},
   "source": [
    "# Deep Neural Networks Exercise\n",
    " >__Created__:  2018 Harrison B. Prosper\n",
    "  \n",
    "\n",
    "### Neural Networks\n",
    "A neural network is a highly non-linear function. The functional form of a single layer fully connected\n",
    "network with $I$ inputs and $J$ outputs is\n",
    "\n",
    "$$y_{j}(x) = f\\left(b_{j} + \\sum_{i=1}^I w_{ji} \\, x_i\\right),\\quad j = 1,\\cdots,J,$$\n",
    "which in matrix notation is\n",
    "$$\\mathbf{y} = f\\left(\\mathbf{b} + \\mathbf{w} \\, \\mathbf{x}\\right),$$\n",
    "where $f(*)$ is a non-linear function to be applied element-wise to its matrix argument. Popular examples of $f(*)$ are\n",
    "\\begin{align*}\n",
    "    f(z) & = \\tanh{z},\\\\\n",
    "    f(z) & = \\max(0, z) \\quad\\textrm{reLU function}.\n",
    "\\end{align*}\n",
    "\n",
    "Consider a neural network with $I$ inputs, $x_{i}, i = 1, \\cdots, I$, a single hidden layer with $H$ nodes, and $K$ outputs $y_{k}(x), k = 1, \\cdots, K$. Such a network is said to be *shallow* with structure $(I, H, K)$. The functional form is\n",
    "\n",
    "$$y = f^\\prime(\\mathbf{b}_1 + \\mathbf{w}_1 \\, f(\\mathbf{b}_0 + \\mathbf{w}_0 \\, \\mathbf{x})),$$\n",
    "\n",
    "where the subscripts label the layers, and, usually, the output function $f^\\prime$ differs from $f$. For regression,  $f^\\prime$ is\n",
    "the $identity$. For 2-class (i.e., binary) classification it is usually the $logistic$ function \n",
    "\n",
    "$$f^\\prime(z) = \\frac{1}{1 + \\exp(-z)},$$ \n",
    "\n",
    "while for multi-class classification one typically uses the $softwmax$ function\n",
    "\n",
    "$$y_j = f^\\prime(z_j) = \\frac{\\exp(z_j)}{\\sum_{k=1}^K \\exp(z_k)}.$$ \n",
    "\n",
    "For the special case of a single output network, the $\\mathbf{b}_1$ becomes a scalar $b$ and $\\mathbf{w}_1$ \n",
    "is a column matrix.\n",
    "\n",
    "### Deep Neural Networks\n",
    "A feed forward deep neural network (DNN) contains two or more hidden layers \n",
    "compounded recursively. For example, a DNN with two hidden layers has the functional form\n",
    "\n",
    "$$y = f(\\mathbf{b}_2 + \\mathbf{w}_2 \\, f^\\prime(\\mathbf{b}_1 + \\mathbf{w}_1 \\, f(\\mathbf{b}_0 + \\mathbf{w}_0 \\, \\mathbf{x}))).$$\n",
    "\n",
    "In this exercise, we build a deep network, using __MLPClassifier__, to classifier wines. "
   ]
  },
  {
   "cell_type": "markdown",
   "metadata": {},
   "source": []
  },
  {
   "cell_type": "code",
   "execution_count": 2,
   "metadata": {},
   "outputs": [],
   "source": [
    "import os, sys\n",
    "import pandas as pd\n",
    "import numpy as np\n",
    "\n",
    "from sklearn.pipeline import Pipeline\n",
    "from sklearn.model_selection import train_test_split, RandomizedSearchCV\n",
    "from sklearn.preprocessing import StandardScaler\n",
    "from sklearn.neural_network import MLPClassifier\n",
    "from sklearn.externals import joblib\n",
    "\n",
    "import matplotlib as mp\n",
    "import matplotlib.pyplot as plt\n",
    "import pylab as pl\n",
    "\n",
    "%matplotlib inline"
   ]
  },
  {
   "cell_type": "code",
   "execution_count": 3,
   "metadata": {},
   "outputs": [],
   "source": [
    "# update fonts\n",
    "FONTSIZE = 32\n",
    "font = {'family' : 'sans-serif',\n",
    "        'weight' : 'normal',\n",
    "        'size'   : 28}\n",
    "\n",
    "mp.rc('font', **font)"
   ]
  },
  {
   "cell_type": "markdown",
   "metadata": {
    "collapsed": true
   },
   "source": [
    "### Load data into memory"
   ]
  },
  {
   "cell_type": "code",
   "execution_count": 4,
   "metadata": {},
   "outputs": [
    {
     "name": "stdout",
     "output_type": "stream",
     "text": [
      "['acetic', 'citric', 'suger', 'salt', 'SO2free', 'SO2tota', 'pH', 'sulfate', 'alcohol']\n"
     ]
    },
    {
     "data": {
      "text/html": [
       "<div>\n",
       "<table border=\"1\" class=\"dataframe\">\n",
       "  <thead>\n",
       "    <tr style=\"text-align: right;\">\n",
       "      <th></th>\n",
       "      <th>acetic</th>\n",
       "      <th>citric</th>\n",
       "      <th>suger</th>\n",
       "      <th>salt</th>\n",
       "      <th>SO2free</th>\n",
       "      <th>SO2tota</th>\n",
       "      <th>pH</th>\n",
       "      <th>sulfate</th>\n",
       "      <th>alcohol</th>\n",
       "      <th>quality</th>\n",
       "    </tr>\n",
       "  </thead>\n",
       "  <tbody>\n",
       "    <tr>\n",
       "      <th>0</th>\n",
       "      <td>0.180</td>\n",
       "      <td>0.33</td>\n",
       "      <td>1.4</td>\n",
       "      <td>0.029</td>\n",
       "      <td>35.0</td>\n",
       "      <td>138.0</td>\n",
       "      <td>3.36</td>\n",
       "      <td>0.60</td>\n",
       "      <td>11.5</td>\n",
       "      <td>0.7</td>\n",
       "    </tr>\n",
       "    <tr>\n",
       "      <th>1</th>\n",
       "      <td>0.685</td>\n",
       "      <td>0.21</td>\n",
       "      <td>9.5</td>\n",
       "      <td>0.070</td>\n",
       "      <td>33.0</td>\n",
       "      <td>172.0</td>\n",
       "      <td>3.00</td>\n",
       "      <td>0.55</td>\n",
       "      <td>9.1</td>\n",
       "      <td>0.6</td>\n",
       "    </tr>\n",
       "    <tr>\n",
       "      <th>2</th>\n",
       "      <td>0.210</td>\n",
       "      <td>0.28</td>\n",
       "      <td>2.4</td>\n",
       "      <td>0.056</td>\n",
       "      <td>49.0</td>\n",
       "      <td>159.0</td>\n",
       "      <td>3.02</td>\n",
       "      <td>0.47</td>\n",
       "      <td>8.8</td>\n",
       "      <td>0.8</td>\n",
       "    </tr>\n",
       "    <tr>\n",
       "      <th>3</th>\n",
       "      <td>0.250</td>\n",
       "      <td>0.13</td>\n",
       "      <td>17.2</td>\n",
       "      <td>0.036</td>\n",
       "      <td>49.0</td>\n",
       "      <td>219.0</td>\n",
       "      <td>2.96</td>\n",
       "      <td>0.46</td>\n",
       "      <td>9.7</td>\n",
       "      <td>0.5</td>\n",
       "    </tr>\n",
       "    <tr>\n",
       "      <th>4</th>\n",
       "      <td>0.420</td>\n",
       "      <td>0.23</td>\n",
       "      <td>8.8</td>\n",
       "      <td>0.054</td>\n",
       "      <td>42.0</td>\n",
       "      <td>215.0</td>\n",
       "      <td>3.02</td>\n",
       "      <td>0.58</td>\n",
       "      <td>9.2</td>\n",
       "      <td>0.6</td>\n",
       "    </tr>\n",
       "    <tr>\n",
       "      <th>5</th>\n",
       "      <td>0.240</td>\n",
       "      <td>0.15</td>\n",
       "      <td>7.1</td>\n",
       "      <td>0.043</td>\n",
       "      <td>32.0</td>\n",
       "      <td>134.0</td>\n",
       "      <td>3.24</td>\n",
       "      <td>0.48</td>\n",
       "      <td>9.9</td>\n",
       "      <td>0.6</td>\n",
       "    </tr>\n",
       "    <tr>\n",
       "      <th>6</th>\n",
       "      <td>0.250</td>\n",
       "      <td>0.37</td>\n",
       "      <td>1.0</td>\n",
       "      <td>0.043</td>\n",
       "      <td>10.0</td>\n",
       "      <td>80.0</td>\n",
       "      <td>3.08</td>\n",
       "      <td>0.38</td>\n",
       "      <td>11.4</td>\n",
       "      <td>0.5</td>\n",
       "    </tr>\n",
       "    <tr>\n",
       "      <th>7</th>\n",
       "      <td>0.140</td>\n",
       "      <td>0.32</td>\n",
       "      <td>1.1</td>\n",
       "      <td>0.022</td>\n",
       "      <td>48.0</td>\n",
       "      <td>116.0</td>\n",
       "      <td>3.04</td>\n",
       "      <td>0.67</td>\n",
       "      <td>10.0</td>\n",
       "      <td>0.6</td>\n",
       "    </tr>\n",
       "    <tr>\n",
       "      <th>8</th>\n",
       "      <td>0.310</td>\n",
       "      <td>0.26</td>\n",
       "      <td>7.3</td>\n",
       "      <td>0.050</td>\n",
       "      <td>37.0</td>\n",
       "      <td>157.0</td>\n",
       "      <td>3.09</td>\n",
       "      <td>0.43</td>\n",
       "      <td>9.0</td>\n",
       "      <td>0.5</td>\n",
       "    </tr>\n",
       "    <tr>\n",
       "      <th>9</th>\n",
       "      <td>0.410</td>\n",
       "      <td>0.18</td>\n",
       "      <td>3.5</td>\n",
       "      <td>0.027</td>\n",
       "      <td>23.0</td>\n",
       "      <td>109.0</td>\n",
       "      <td>3.34</td>\n",
       "      <td>0.54</td>\n",
       "      <td>12.8</td>\n",
       "      <td>0.8</td>\n",
       "    </tr>\n",
       "  </tbody>\n",
       "</table>\n",
       "</div>"
      ],
      "text/plain": [
       "   acetic  citric  suger   salt  SO2free  SO2tota    pH  sulfate  alcohol  \\\n",
       "0   0.180    0.33    1.4  0.029     35.0    138.0  3.36     0.60     11.5   \n",
       "1   0.685    0.21    9.5  0.070     33.0    172.0  3.00     0.55      9.1   \n",
       "2   0.210    0.28    2.4  0.056     49.0    159.0  3.02     0.47      8.8   \n",
       "3   0.250    0.13   17.2  0.036     49.0    219.0  2.96     0.46      9.7   \n",
       "4   0.420    0.23    8.8  0.054     42.0    215.0  3.02     0.58      9.2   \n",
       "5   0.240    0.15    7.1  0.043     32.0    134.0  3.24     0.48      9.9   \n",
       "6   0.250    0.37    1.0  0.043     10.0     80.0  3.08     0.38     11.4   \n",
       "7   0.140    0.32    1.1  0.022     48.0    116.0  3.04     0.67     10.0   \n",
       "8   0.310    0.26    7.3  0.050     37.0    157.0  3.09     0.43      9.0   \n",
       "9   0.410    0.18    3.5  0.027     23.0    109.0  3.34     0.54     12.8   \n",
       "\n",
       "   quality  \n",
       "0      0.7  \n",
       "1      0.6  \n",
       "2      0.8  \n",
       "3      0.5  \n",
       "4      0.6  \n",
       "5      0.6  \n",
       "6      0.5  \n",
       "7      0.6  \n",
       "8      0.5  \n",
       "9      0.8  "
      ]
     },
     "execution_count": 4,
     "metadata": {},
     "output_type": "execute_result"
    }
   ],
   "source": [
    "wine = pd.read_csv('data/whitewine.csv')\n",
    "input_names = wine.keys().tolist()[:-1]\n",
    "print input_names\n",
    "wine[0:10]"
   ]
  },
  {
   "cell_type": "markdown",
   "metadata": {},
   "source": [
    "### Add a target column based on wine quality "
   ]
  },
  {
   "cell_type": "code",
   "execution_count": 5,
   "metadata": {},
   "outputs": [
    {
     "name": "stdout",
     "output_type": "stream",
     "text": [
      "0     True\n",
      "1    False\n",
      "2     True\n",
      "3    False\n",
      "4    False\n",
      "5    False\n",
      "6    False\n",
      "7    False\n",
      "8    False\n",
      "9     True\n",
      "Name: quality, dtype: bool\n",
      "number of good wines 3258\n",
      "number of bad  wines 1640\n"
     ]
    },
    {
     "data": {
      "text/html": [
       "<div>\n",
       "<table border=\"1\" class=\"dataframe\">\n",
       "  <thead>\n",
       "    <tr style=\"text-align: right;\">\n",
       "      <th></th>\n",
       "      <th>acetic</th>\n",
       "      <th>citric</th>\n",
       "      <th>suger</th>\n",
       "      <th>salt</th>\n",
       "      <th>SO2free</th>\n",
       "      <th>SO2tota</th>\n",
       "      <th>pH</th>\n",
       "      <th>sulfate</th>\n",
       "      <th>alcohol</th>\n",
       "      <th>quality</th>\n",
       "      <th>target</th>\n",
       "    </tr>\n",
       "  </thead>\n",
       "  <tbody>\n",
       "    <tr>\n",
       "      <th>0</th>\n",
       "      <td>0.180</td>\n",
       "      <td>0.33</td>\n",
       "      <td>1.4</td>\n",
       "      <td>0.029</td>\n",
       "      <td>35.0</td>\n",
       "      <td>138.0</td>\n",
       "      <td>3.36</td>\n",
       "      <td>0.60</td>\n",
       "      <td>11.5</td>\n",
       "      <td>0.7</td>\n",
       "      <td>1</td>\n",
       "    </tr>\n",
       "    <tr>\n",
       "      <th>1</th>\n",
       "      <td>0.685</td>\n",
       "      <td>0.21</td>\n",
       "      <td>9.5</td>\n",
       "      <td>0.070</td>\n",
       "      <td>33.0</td>\n",
       "      <td>172.0</td>\n",
       "      <td>3.00</td>\n",
       "      <td>0.55</td>\n",
       "      <td>9.1</td>\n",
       "      <td>0.6</td>\n",
       "      <td>1</td>\n",
       "    </tr>\n",
       "    <tr>\n",
       "      <th>2</th>\n",
       "      <td>0.210</td>\n",
       "      <td>0.28</td>\n",
       "      <td>2.4</td>\n",
       "      <td>0.056</td>\n",
       "      <td>49.0</td>\n",
       "      <td>159.0</td>\n",
       "      <td>3.02</td>\n",
       "      <td>0.47</td>\n",
       "      <td>8.8</td>\n",
       "      <td>0.8</td>\n",
       "      <td>1</td>\n",
       "    </tr>\n",
       "    <tr>\n",
       "      <th>3</th>\n",
       "      <td>0.250</td>\n",
       "      <td>0.13</td>\n",
       "      <td>17.2</td>\n",
       "      <td>0.036</td>\n",
       "      <td>49.0</td>\n",
       "      <td>219.0</td>\n",
       "      <td>2.96</td>\n",
       "      <td>0.46</td>\n",
       "      <td>9.7</td>\n",
       "      <td>0.5</td>\n",
       "      <td>0</td>\n",
       "    </tr>\n",
       "    <tr>\n",
       "      <th>4</th>\n",
       "      <td>0.420</td>\n",
       "      <td>0.23</td>\n",
       "      <td>8.8</td>\n",
       "      <td>0.054</td>\n",
       "      <td>42.0</td>\n",
       "      <td>215.0</td>\n",
       "      <td>3.02</td>\n",
       "      <td>0.58</td>\n",
       "      <td>9.2</td>\n",
       "      <td>0.6</td>\n",
       "      <td>1</td>\n",
       "    </tr>\n",
       "    <tr>\n",
       "      <th>5</th>\n",
       "      <td>0.240</td>\n",
       "      <td>0.15</td>\n",
       "      <td>7.1</td>\n",
       "      <td>0.043</td>\n",
       "      <td>32.0</td>\n",
       "      <td>134.0</td>\n",
       "      <td>3.24</td>\n",
       "      <td>0.48</td>\n",
       "      <td>9.9</td>\n",
       "      <td>0.6</td>\n",
       "      <td>1</td>\n",
       "    </tr>\n",
       "    <tr>\n",
       "      <th>6</th>\n",
       "      <td>0.250</td>\n",
       "      <td>0.37</td>\n",
       "      <td>1.0</td>\n",
       "      <td>0.043</td>\n",
       "      <td>10.0</td>\n",
       "      <td>80.0</td>\n",
       "      <td>3.08</td>\n",
       "      <td>0.38</td>\n",
       "      <td>11.4</td>\n",
       "      <td>0.5</td>\n",
       "      <td>0</td>\n",
       "    </tr>\n",
       "    <tr>\n",
       "      <th>7</th>\n",
       "      <td>0.140</td>\n",
       "      <td>0.32</td>\n",
       "      <td>1.1</td>\n",
       "      <td>0.022</td>\n",
       "      <td>48.0</td>\n",
       "      <td>116.0</td>\n",
       "      <td>3.04</td>\n",
       "      <td>0.67</td>\n",
       "      <td>10.0</td>\n",
       "      <td>0.6</td>\n",
       "      <td>1</td>\n",
       "    </tr>\n",
       "    <tr>\n",
       "      <th>8</th>\n",
       "      <td>0.310</td>\n",
       "      <td>0.26</td>\n",
       "      <td>7.3</td>\n",
       "      <td>0.050</td>\n",
       "      <td>37.0</td>\n",
       "      <td>157.0</td>\n",
       "      <td>3.09</td>\n",
       "      <td>0.43</td>\n",
       "      <td>9.0</td>\n",
       "      <td>0.5</td>\n",
       "      <td>0</td>\n",
       "    </tr>\n",
       "    <tr>\n",
       "      <th>9</th>\n",
       "      <td>0.410</td>\n",
       "      <td>0.18</td>\n",
       "      <td>3.5</td>\n",
       "      <td>0.027</td>\n",
       "      <td>23.0</td>\n",
       "      <td>109.0</td>\n",
       "      <td>3.34</td>\n",
       "      <td>0.54</td>\n",
       "      <td>12.8</td>\n",
       "      <td>0.8</td>\n",
       "      <td>1</td>\n",
       "    </tr>\n",
       "  </tbody>\n",
       "</table>\n",
       "</div>"
      ],
      "text/plain": [
       "   acetic  citric  suger   salt  SO2free  SO2tota    pH  sulfate  alcohol  \\\n",
       "0   0.180    0.33    1.4  0.029     35.0    138.0  3.36     0.60     11.5   \n",
       "1   0.685    0.21    9.5  0.070     33.0    172.0  3.00     0.55      9.1   \n",
       "2   0.210    0.28    2.4  0.056     49.0    159.0  3.02     0.47      8.8   \n",
       "3   0.250    0.13   17.2  0.036     49.0    219.0  2.96     0.46      9.7   \n",
       "4   0.420    0.23    8.8  0.054     42.0    215.0  3.02     0.58      9.2   \n",
       "5   0.240    0.15    7.1  0.043     32.0    134.0  3.24     0.48      9.9   \n",
       "6   0.250    0.37    1.0  0.043     10.0     80.0  3.08     0.38     11.4   \n",
       "7   0.140    0.32    1.1  0.022     48.0    116.0  3.04     0.67     10.0   \n",
       "8   0.310    0.26    7.3  0.050     37.0    157.0  3.09     0.43      9.0   \n",
       "9   0.410    0.18    3.5  0.027     23.0    109.0  3.34     0.54     12.8   \n",
       "\n",
       "   quality  target  \n",
       "0      0.7       1  \n",
       "1      0.6       1  \n",
       "2      0.8       1  \n",
       "3      0.5       0  \n",
       "4      0.6       1  \n",
       "5      0.6       1  \n",
       "6      0.5       0  \n",
       "7      0.6       1  \n",
       "8      0.5       0  \n",
       "9      0.8       1  "
      ]
     },
     "execution_count": 5,
     "metadata": {},
     "output_type": "execute_result"
    }
   ],
   "source": [
    "# Good wine threshold\n",
    "THRESHOLD = 0.6\n",
    "\n",
    "# because we're using numpy, the following contains an implied loop of the rows of the\n",
    "# column wine['quality']\n",
    "select = wine['quality'] > THRESHOLD\n",
    "print select[0:10]\n",
    "\n",
    "# define the targets according to wine quality\n",
    "wine['target'] = np.where(wine['quality'] >= 0.6, 1,  0)\n",
    "\n",
    "ngood = np.sum(wine['target'])\n",
    "nbad  = len(wine) - ngood\n",
    "\n",
    "print 'number of good wines %d' % ngood\n",
    "print 'number of bad  wines %d' % nbad\n",
    "wine[:10]"
   ]
  },
  {
   "cell_type": "markdown",
   "metadata": {},
   "source": [
    "### Split into testing and training data samples"
   ]
  },
  {
   "cell_type": "code",
   "execution_count": 6,
   "metadata": {},
   "outputs": [
    {
     "name": "stdout",
     "output_type": "stream",
     "text": [
      "(3918, 11) (980, 11)\n"
     ]
    }
   ],
   "source": [
    "test_fraction = 0.20\n",
    "train_data, test_data = train_test_split(wine, test_size=test_fraction)\n",
    "print train_data.shape, test_data.shape"
   ]
  },
  {
   "cell_type": "markdown",
   "metadata": {},
   "source": [
    "### Prepare data for training/testing"
   ]
  },
  {
   "cell_type": "code",
   "execution_count": 7,
   "metadata": {},
   "outputs": [],
   "source": [
    "def standardize_data(train_data, test_data, names):\n",
    "    scaler  = StandardScaler()\n",
    "    scaler.fit(train_data[names])\n",
    "    \n",
    "    X_train = scaler.transform(train_data[names])\n",
    "    y_train = train_data['target']\n",
    "    \n",
    "    X_test  = scaler.transform(test_data[names])\n",
    "    y_test  = test_data['target']\n",
    "    return (X_train, X_test, y_train, y_test, scaler)"
   ]
  },
  {
   "cell_type": "code",
   "execution_count": 8,
   "metadata": {},
   "outputs": [],
   "source": [
    "X_train, X_test, y_train, y_test, scaler = standardize_data(train_data, test_data, input_names)"
   ]
  },
  {
   "cell_type": "markdown",
   "metadata": {},
   "source": [
    "### Define function space \n",
    "A particular choice of neural network architecture, be it deep, convolutional, recurrent, etc., defines the space of possible functions that can be accessed via training. If you get poor results, it could be because you have insufficient training data, or perhaps your function space does not contain a function that is a good approximation to the desired solution, or it could be that your training algorithm is not good enough to locate the function within your function space, or any combination of these."
   ]
  },
  {
   "cell_type": "code",
   "execution_count": 9,
   "metadata": {},
   "outputs": [],
   "source": [
    "mlp = MLPClassifier(hidden_layer_sizes=(10, 10, 10), \n",
    "                    max_iter=500, \n",
    "                    alpha=1e-3,\n",
    "                    solver='adam', \n",
    "                    verbose=0, \n",
    "                    tol=1e-7, \n",
    "                    warm_start=False,\n",
    "                    random_state=1)\n",
    "\n",
    "# possible combinations of params\n",
    "params = {'max_iter': [500, 600, 700],\n",
    "          'hidden_layer_sizes': [(10,), (10,10), (5,5,5)],\n",
    "          'alpha': [1e-3,2e-3,4e-3,8e-3],\n",
    "          'solver' : ['sgd', 'adam']}"
   ]
  },
  {
   "cell_type": "markdown",
   "metadata": {},
   "source": [
    "### Choose a function, aka train a classifier, or fit a model to the training data!\n",
    "Use __RandomizedSearchCV__ to run many trainings, each with a randomly chosen set of discrete parameters from above and find the best classifier. This tool uses 3-way __cross-validation__. The training data are split 3 ways; 2/3 are used for training and the other 1/3 for validation and the training is done 3 times, each with a different 2/3 of the training data."
   ]
  },
  {
   "cell_type": "code",
   "execution_count": 10,
   "metadata": {},
   "outputs": [
    {
     "name": "stdout",
     "output_type": "stream",
     "text": [
      "*** TRAINING ***\n",
      "Fitting 3 folds for each of 25 candidates, totalling 75 fits\n"
     ]
    },
    {
     "name": "stderr",
     "output_type": "stream",
     "text": [
      "/opt/local/Library/Frameworks/Python.framework/Versions/2.7/lib/python2.7/site-packages/sklearn/neural_network/multilayer_perceptron.py:563: ConvergenceWarning: Stochastic Optimizer: Maximum iterations reached and the optimization hasn't converged yet.\n",
      "  % (), ConvergenceWarning)\n",
      "[Parallel(n_jobs=1)]: Done  75 out of  75 | elapsed:  1.9min finished\n"
     ]
    },
    {
     "name": "stdout",
     "output_type": "stream",
     "text": [
      "Best set of parameters: {'alpha': 0.001, 'max_iter': 600, 'hidden_layer_sizes': (10, 10), 'solver': 'adam'}\n",
      "Training set score: 0.797601\n",
      "Test set score:     0.765306\n",
      "save to 01_dnn_wine.pkl\n"
     ]
    },
    {
     "data": {
      "text/plain": [
       "['01_dnn_wine.pkl']"
      ]
     },
     "execution_count": 10,
     "metadata": {},
     "output_type": "execute_result"
    }
   ],
   "source": [
    "print \"*** TRAINING ***\"\n",
    "rcv = RandomizedSearchCV(mlp, params, n_iter=25, verbose=1)\n",
    "rcv.fit(X_train, y_train)\n",
    "\n",
    "print \"Best set of parameters: %s\" % rcv.best_params_\n",
    "\n",
    "dnn = rcv.best_estimator_\n",
    "\n",
    "print(\"Training set score: %f\" % dnn.score(X_train, y_train))      \n",
    "print(\"Test set score:     %f\" % dnn.score(X_test,  y_test))\n",
    "\n",
    "filename = '01_dnn_wine.pkl'\n",
    "print \"save to %s\" % filename\n",
    "joblib.dump(dnn, filename)"
   ]
  },
  {
   "cell_type": "markdown",
   "metadata": {},
   "source": [
    "### Plot loss curve vs. epochs"
   ]
  },
  {
   "cell_type": "code",
   "execution_count": 11,
   "metadata": {},
   "outputs": [],
   "source": [
    "def plotLoss(dnn, ftsize=FONTSIZE):\n",
    "    y    = dnn.loss_curve_\n",
    "    x    = np.array(range(len(y)))+1\n",
    "\n",
    "    ymin = 0.0\n",
    "    ymax = 1.2*max(y)\n",
    "    epoch= range(len(y))\n",
    "    xmin = 0\n",
    "    xmax = len(x)\n",
    "    \n",
    "    # set size of figure\n",
    "    plt.figure(figsize=(10, 5));\n",
    "\n",
    "    # get axis info\n",
    "    axes = plt.gca()\n",
    "    # set axes' limits\n",
    "    axes.set_xlim(xmin, xmax)\n",
    "    axes.set_ylim(ymin, ymax)\n",
    "    \n",
    "    # annotate axes\n",
    "    plt.xlabel(r'epoch', fontsize=ftsize)\n",
    "    plt.ylabel(r'loss',  fontsize=ftsize)\n",
    "    \n",
    "    # choose color of points\n",
    "    plt.plot(x, y, 'b-')\n",
    "    plt.savefig('01_dnn_wine_loss.png')\n",
    "    plt.show()"
   ]
  },
  {
   "cell_type": "code",
   "execution_count": 12,
   "metadata": {},
   "outputs": [
    {
     "data": {
      "image/png": "[encoded data removed]",
      "text/plain": [
       "<matplotlib.figure.Figure at 0x109884510>"
      ]
     },
     "metadata": {},
     "output_type": "display_data"
    }
   ],
   "source": [
    "plotLoss(dnn)"
   ]
  },
  {
   "cell_type": "markdown",
   "metadata": {},
   "source": [
    "### Plot results"
   ]
  },
  {
   "cell_type": "code",
   "execution_count": 13,
   "metadata": {},
   "outputs": [],
   "source": [
    "def plotDistribution(ada, X_test, y_test, ftsize=FONTSIZE, fgsize=(12,6)):\n",
    "    \n",
    "    # predict class \"probabilities\"\n",
    "    p = ada.predict_proba(X_test)\n",
    "    \n",
    "    # separate probabilities into those for bad and good wines\n",
    "    bad  = map(lambda x: x[0][-1], filter(lambda x: x[-1], zip(p, y_test < 1)))\n",
    "    good = map(lambda x: x[0][-1], filter(lambda x: x[-1], zip(p, y_test > 0))) \n",
    "    \n",
    "    # set size of figure\n",
    "    somerange=(0, 1)\n",
    "    nbins =40\n",
    "    plt.figure(figsize=fgsize)\n",
    "    plt.hist(bad,\n",
    "             bins=nbins, \n",
    "             color=(1, 0, 0),\n",
    "             alpha=0.3,         # opacity\n",
    "             range=somerange, \n",
    "             normed=True,       # normalize histogram\n",
    "             label='bad wine')\n",
    "    pl.legend(fontsize='small') # show legend using specified \"label\"\n",
    "    \n",
    "    plt.xlabel(r'DNN score', fontsize=ftsize)\n",
    "    \n",
    "    plt.hist(good,\n",
    "             bins=nbins, \n",
    "             color=(0,1,0),\n",
    "             alpha=0.3,\n",
    "             range=somerange, \n",
    "             normed=True, \n",
    "             label='good wine')\n",
    "    pl.legend(fontsize='small') # show legend using specified \"label\"\n",
    "    \n",
    "    plt.savefig(\"01_dnn_distribution.png\")\n",
    "    plt.show()"
   ]
  },
  {
   "cell_type": "code",
   "execution_count": 14,
   "metadata": {},
   "outputs": [
    {
     "data": {
      "image/png": "[encoded data removed]",
      "text/plain": [
       "<matplotlib.figure.Figure at 0x10c9d1250>"
      ]
     },
     "metadata": {},
     "output_type": "display_data"
    }
   ],
   "source": [
    "plotDistribution(dnn, X_test, y_test)"
   ]
  },
  {
   "cell_type": "code",
   "execution_count": null,
   "metadata": {
    "collapsed": true
   },
   "outputs": [],
   "source": []
  }
 ],
 "metadata": {
  "kernelspec": {
   "display_name": "Python 2",
   "language": "python",
   "name": "python2"
  },
  "language_info": {
   "codemirror_mode": {
    "name": "ipython",
    "version": 2
   },
   "file_extension": ".py",
   "mimetype": "text/x-python",
   "name": "python",
   "nbconvert_exporter": "python",
   "pygments_lexer": "ipython2",
   "version": "2.7.14"
  }
 },
 "nbformat": 4,
 "nbformat_minor": 1
}
