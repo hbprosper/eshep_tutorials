{
 "cells": [
  {
   "cell_type": "markdown",
   "metadata": {},
   "source": [
    "# Exact Cosmological Models \n",
    "### Created:  1 July 2018, ESHEP 18, Maratea, Italy, Harrison B. Prosper\n",
    "\n",
    "## Introduction\n",
    "\n",
    "Current cosmological models of the universe are based on the __1st Friedmann equation__,\n",
    "\\begin{equation}\n",
    "\\left(\\frac{\\dot{a}}{a} \\right)^2 = \\frac{8\\pi G}{3}\\rho(a) - \\frac{K c^2}{a^2} + \\frac{\\Lambda c^2}{3},\n",
    "\\end{equation}\n",
    "and the __Friedmann-Lemaitre-Robertson-Walker__ (FLRW) metric\n",
    "\\begin{equation}\n",
    "    ds^2 = (c dt)^2 - a^2(t)\\left[ \\frac{dr^2}{1 - Kr^2} + r^2 (d\\theta^2 + \\sin^2\\theta \\, d\\phi^2) \\right],\n",
    "\\end{equation}\n",
    "where $a(t)$ is a dimensionless function, called the __scale factor__, which models how __proper distances__ change with cosmic time $t$. The proper distance is the spacetime separation between *simultaneous* events. We shall, by convention, normalize the scale factor so that $a(t_0) = 1$ at the present epoch $t_0$, which is the elapsed time since the Big Bang, defined by $a(0) = 0$. $G$ is the gravitational constant, $c$ the speed of light in vacuum, $\\dot{a} \\equiv da/dt$, and $\\rho c^2$ is the density of all forms of energy excluding that due to the cosmological constant $\\Lambda$. The constant $K$, which has units of inverse area, is the global curvature of space. \n",
    "\n",
    "Care must be exercised in interpreting the symbols of any metric in general relativity. For example, the radial coordinate $r$ is not the proper distance between the center of the sphere at $r = 0$ and the sphere! The operational meaning of the radial coordinate $r$ is simply $r = \\sqrt{A \\, / \\, (4\\pi)}$, where $A$ is the proper area of the sphere centered at $r = 0$, *today*. The proper distance between any two nearby galaxies today, when by choice $a(t_0) = 1$, is the square root of the term in square brackets in the FLRW metric. That distance, $d\\chi$, is called the __comoving distance__. It is comoving because the coordinate grid that defines it expands with the universe. Therefore, if a galaxy is stationary with respect to this expanding grid, its comoving coordinates (relative to some origin) do not change. By choice, comoving distances match proper distances today; at any other time $t$, the proper distance between any two galaxies that are not necessarily nearby is given by \n",
    "    \\begin{equation}\n",
    "    d(t) = a(t) \\, \\chi.\n",
    "    \\end{equation}\n",
    "\n",
    "The motion of galaxies relative to the expanding comoving grid, the so-called __perculiar motion__, is small (roughly on the order of 200 km/s) compared with the speed of light. Therefore, on the scale of millions of years, it is a very good approximation to presume that the same time $t$ since the Big Bang can be assigned to all galaxies, that is, that all galaxies share the same __surfaces of simultaneity__. This is just as well because it makes it possible to describe the evolution of the universe in a way that is not specific to our particular circumstance. Ironically, however, this is a highly non-relativistic way to conceptual spacetime. In principle, spacetime is to be regarded as a *completed* 4-dimensional \"thing\" that doesn't evolve; spacetime just is!\n",
    "\n",
    "Without loss of generality, the comoving distance between any two galaxies can be oriented to lie along the radial direction, for which $d\\theta = d\\phi = 0$. Since, by definition, the comoving distance is the proper distance between galaxies today, it follows that \n",
    "$$\\chi = \\int_0^r \\frac{dy}{\\sqrt{1 - K y^2}} = \\sin^{-1}(\\sqrt{K} \\, r) / \\sqrt{K},$$\n",
    "where, in order to avoid confusion, $y$ is used as the integration variable to distinguish it from its lower and upper bounds. The result can be inverted to give\n",
    "    \\begin{equation}\n",
    "    r = \\sin(\\sqrt{K}\\chi)/\\sqrt{K}.\n",
    "    \\end{equation}\n",
    "\n",
    "\n",
    "## First Friedmann Equation\n",
    "Consider the scaling law $d(t) = a(t) \\, \\chi$ and its derivative $\\dot{d} = \\dot{a} \\, \\chi$ with respect to the universal time $t$. If we interpret $v(t) = \\dot{d}$ as the proper velocity of the expansion, then we arrive at the general form of Hubble's law\n",
    "$$v(t) = H(t) \\, d(t),$$\n",
    "where $H(t) = \\dot{a} / a$ is called the __Hubble parameter__ and __Hubble's constant__ is $H_0 = H(t_0)$. Therefore, the Friedmann equation at time $t_0$ is \n",
    "$$H_0^2 = \\frac{8\\pi G}{3}\\rho(1) - K c^2 + \\frac{\\Lambda c^2}{3},$$\n",
    "or, equivalently,\n",
    "$$1 = \\frac{8\\pi G}{3H_0^2}\\rho(1) - \\frac{K c^2}{H_0^2} + \\frac{\\Lambda c^2}{3 H_0^2}.$$\n",
    "Notice that each term on the right-hand side is dimensionless, suggesting that it might be useful to define the dimensionless functions \n",
    "\\begin{eqnarray}\n",
    "    \\Omega_M(a) & = & \\frac{8\\pi G}{3H_0^2}\\rho(a), \\nonumber\\\\\n",
    "    \\Omega_K(a) & = & - \\frac{K c^2}{H_0^2} \\frac{1}{a^2}, \\quad\\textrm{and}\\nonumber\\\\\n",
    "    \\Omega_\\Lambda & = & \\frac{\\Lambda c^2}{3 H_0^2},\n",
    "\\end{eqnarray}\n",
    "for arbitrary values of $a$. It is also useful to define\n",
    "$\\Omega(a)$ as the sum of these functions. Then, we can write the 1st Friedmann equation as\n",
    "\\begin{equation}\n",
    "\\dot{a} = H_0 a \\sqrt{\\Omega(a)}.\n",
    "\\end{equation}\n",
    "Notice also that the quantities $\\Omega_M(1)$, $\\Omega_K(1)$, and $\\Omega_\\Lambda$ satisfy the sum rule\n",
    "    \\begin{equation}\n",
    "    \\Omega_M(1) + \\Omega_K(1) + \\Omega_\\Lambda = 1,\n",
    "    \\end{equation}\n",
    "which implies the condition $\\Omega(1) = 1$, irrespective of the cosmological model.\n",
    "\n",
    "For simplicity, we shall take the dimensionless functions written *without* the dependence on $a$ to be the values of the functions evaluated at $a = 1$; for example, $\\Omega_M$ is a synonym for $\\Omega_M(1)$. The alternative convention is to append the subscript 0 to each symbol to denote its value today, e.g., $\\Omega_{M0}$.\n",
    "\n",
    "\n",
    "## Comoving Distance\n",
    "\n",
    "In an expanding universe, the notion of distance is subtle. If the light we are now receiving from a galaxy was emitted at time $t$ since the Big Bang, then one obvious distance measure is $c (t_0 - t)$, where $t_0$ is the elapsed time since the Big Bang. The time difference $t_0 - t$ is called the __lookback time__. Its associated distance  $c (t_0 - t)$ could be called the \"distance to the galaxy\". However, in an expanding universe that distance is neither the distance to the galaxy *now* nor the distance to the galaxy *then* when the light was emitted! The distance $c (t_0 - t)$ is merely how far the light we are now receiving from the galaxy has traveled. In order to get the distances to the galaxy now, back then, and in the future, we need a cosmological model that tells us how the scale factor $a(t)$ changes with cosmic time $t$.\n",
    "\n",
    "To that end, we start with the FLRW metric \n",
    "\\begin{equation}\n",
    "    ds^2 = (c dt)^2 - (a(t) d\\chi)^2,\n",
    "\\end{equation}\n",
    "where, again, we adopt the convention $a(t_0) = 1$, that is, that comoving distances $\\chi$ match proper distances $d(t_0)$ today. Consider the worldline of a massless particle in spacetime. Massless particles travel on __null geodesics__, defined by $ds = 0$, for which $c dt = a(t) d\\chi$, an expression that is deceptively simple. Consider the wordlines of two nearby galaxies $A$ and $B$, where $A(t)$ and $B(t)$, respectively, denote the events at cosmic time $t$ on the worldlines. (Note, nearby could still be tens of millions of light years!) The left-hand side of $c dt = a(t) d\\chi$ states that a massless particle, say a photon in free space, travels a distance $c dt$ from some event $A(t)$ in one galaxy to a *non-simultaneous* event $B(t + dt)$ in the other galaxy. On the right-hand side, the comoving distance $d\\chi$ measures the distance between the *simultaneous* events $A(t)$ and $B(t)$ scaled by the factor $a(t)$ to give the proper distance $a(t) d\\chi$ between these events at time $t$. The correspondence between the distance traveled by light and the proper distance makes it possible to use the worldline of a photon as a standard ruler whose measure, namely the distance traveled by light in the time interval $(t, t + dt)$, can be scaled by $1/a(t)$ to yield an expression for $d\\chi = c dt \\, / \\, a(t)$ between the the comoving distance $d\\chi = c dt \\, / \\, a(t)$. Therefore, in order to compute the comoving distance $\\chi$ between the two galaxies, that is, their proper distance today, we need to sum $d\\chi = c dt \\, / \\, a(t)$ between the light emission time and its reception at the other galaxy now; that is, we need to compute the integral\n",
    "\\begin{eqnarray*}\n",
    "   \\chi & = & \\int_{t}^{t_0} \\frac{c dt}{a},\\\\\n",
    "            & = & c \\int_{a}^{1} \\frac{dx}{x \\dot{x}},\n",
    "\\end{eqnarray*}\n",
    "where $a(t) = 1/(1+z)$ is the scale factor when the light was emitted, and where we have changed\n",
    "the integration variable to avoid confusion with the integral's lower bound $a$.\n",
    "After replacing $\\dot{a}$ with the right-hand side of the Friedmann equation $\\dot{a} = H_0 a \\sqrt{\\Omega(a)}$, we arrive at\n",
    "\\begin{equation}\n",
    "\\boxed{\n",
    "    \\chi = \\frac{c}{H_0} \\int_a^1 \\frac{dx}{x^2\\sqrt{\\Omega(x)}}}.\n",
    "\\end{equation}\n",
    "Therefore, given the redshift of a galaxy and a cosmological model, we can compute the proper distance to the galaxy today (which, by choice, coincides with the comoving distance), as well as its proper distance at any other time using the scaling law\n",
    "\n",
    "\\begin{align*}\n",
    "    d(t) &= a(t) \\, \\chi.\n",
    "\\end{align*}\n",
    "\n",
    "\n",
    "## Lifetime of the Universe\n",
    "Through a slight rearrangement of the Friedmann equation, $\\dot{a} = H_0 a \\sqrt{\\Omega(a)}$, we can find the time $t$ since the Big Bang ($a(0) = 0$) as a function of the scale factor, $a$, \n",
    "    \\begin{equation}\n",
    "    \\boxed{t = \\frac{1}{H_0}\\int_0^a \\frac{dx}{x \\sqrt{\\Omega(x)}}}.\n",
    "    \\end{equation}\n",
    "By construction, the elapsed time since the Big Bang to now, $t_0$, is obtained by setting $a = 1$ in the function $t(a)$.\n",
    "\n",
    "\n",
    "## Cosmological Models\n",
    "For our purposes, a cosmological model is a mathematical description of how the dimensionless density $\\Omega(a)$ in the model universe evolves with the scale factor $a$ together with the dependence of the scale factor on the universal time $t$, obtained by solving the (1st) Friedmann equation $\\dot{a} = H_0 a \\sqrt{\\Omega(a)}.$\n",
    "\n",
    "In this tutorial, we consider two cosmological models, the standard model of cosmology $\\Lambda\\textrm{CDM}$ in which on every surface of simultanaeity (aka 3D space!) the model universe is filled with a homogeneous distribution of massless particles, a pressureless dust of galaxies, and a cosmological constant $\\Lambda$. The second model (which I cooked up during an introductory class I taught on modern physics) is a phantom energy model in which the validity of the Friedmann equation is assumed. \n",
    "\n",
    "### $\\Lambda\\textrm{CDM}$ Model\n",
    "During most of the history of the universe, the energy density due to massless particles is negligible. Therefore, in a universe in which matter is conserved, we can write\n",
    "$$\\Omega_M(a) = \\frac{\\Omega_M}{a^3}.$$\n",
    "This makes sense because if we double proper distances, we expect the matter density to go down by $2^3$. The $\\Lambda\\textrm{CDM}$ model is therefore defined by\n",
    "\\begin{equation}\n",
    "\\Omega(a) = \\frac{\\Omega_M}{a^3} + \\frac{1 - \\Omega_M - \\Omega_\\Lambda}{a^2} + \\Omega_\\Lambda,\n",
    "\\end{equation}\n",
    "where $\\Omega_M$, $\\Omega_\\Lambda$, and $H_0$ are the free parameters of the model.\n",
    "\n",
    "### A Phantom Energy Model\n",
    "This model is defined by\n",
    "    \\begin{equation}\n",
    "    \\Omega(a) = \\frac{e^{a^n - 1}}{a^3},\n",
    "    \\end{equation}\n",
    "and the parameters $n$ and $H_0$. This model gives an excellent fit to the Type1a supernova data for $n = 2.82$ and, indeed, fits as well as the $\\Lambda\\textrm{CDM}$ model. \n",
    "\n",
    "At first sight, this model seems incompatible with the result $\\Omega_M \\sim 0.3$ and $\\Omega_\\Lambda \\sim 0.7$. However, given the degeneracy inherent in the Friedmann equation, any model $\\Omega(a)$ is consistent with infinitely many universes, each differing in content! For example, it is possible to regard this model as one in which the phantom energy is coupled to matter in such a way that \n",
    "$$\\Omega(a) = \\frac{\\Omega_M}{a^3} + \\frac{e^{a^n - 1} - \\Omega_M}{a^3}.$$\n",
    "But, since neither the curvature parameter $\\Omega_K$ nor the mass parameter $\\Omega_M$ are identifiable in this model, we can choose their values at will. In particular, we can choose  $\\Omega_K = 0$ and $\\Omega_M \\sim 0.3$!\n",
    "\n",
    "Interestingly, this model can  be integrated exactly. We find\n",
    "    \\begin{equation}\n",
    "    t = \\frac{1}{H_0}\\sqrt{e} \\, 2^{3/(2n)} \\, \\gamma(3/(2n), \\, a^n \\, / \\, 2) \\, / \\, n,\n",
    "    \\end{equation}\n",
    "for the elapsed time since the Big Bang as a function of the scale factor; $\\gamma(s, x) = \\int_0^x \\, t^{s - 1} \\, e^{-t} \\, dt$ is the \n",
    "__[incomplete gamma function](http://mathworld.wolfram.com/IncompleteGammaFunction.html)__.\n",
    "The proper distance today, $d(t_0)$, between us and a galaxy at redshift $z$ is found to be    \n",
    "    \\begin{equation}\n",
    "    d(t_0) \\equiv \\chi = \n",
    "    \\frac{2^{\\frac{1}{2 n}}}{n} \\left(\\gamma\\left(\\frac{1}{2 n}, \\frac{1}{2}\\right) - \\gamma\\left(\\frac{1}{2 n}, \\frac{a^{n}}{2}\\right)\\right) e^{\\frac{1}{2}},\n",
    "    \\end{equation}\n",
    "   where $a = 1/(1+z)$.\n",
    "This model features a future singularity characterized by the condition $a \\rightarrow \\infty$ at a *finite* time. This is an example of a singularity dubbed the __Big Rip__, which in this model occurs at\n",
    "    \\begin{align*}\n",
    "    t_\\textrm{rip} &= \\frac{1}{H_0}\\sqrt{e} \\, 2^{3/(2n)} \\, \\Gamma(3/(2n)) \\, n,\\\\\n",
    "    &= 1.41 \\frac{1}{H_0} \\, \\textrm{Gy},\n",
    "    \\end{align*}\n",
    "about the same as the Sun becomes a red giant and the Andromeda and Milky Way galaxies collide! This makes for an rather eventful, albeit distant future."
   ]
  },
  {
   "cell_type": "code",
   "execution_count": 1,
   "metadata": {},
   "outputs": [],
   "source": [
    "import os, sys\n",
    "import sympy as sm\n",
    "# enable pretty printing of equations\n",
    "sm.init_printing()"
   ]
  },
  {
   "cell_type": "markdown",
   "metadata": {},
   "source": [
    "### Define symbols"
   ]
  },
  {
   "cell_type": "code",
   "execution_count": 2,
   "metadata": {},
   "outputs": [],
   "source": [
    "x,a,z,OL,OM = sm.symbols('x,a,z,Omega_Lambda,Omega_M')\n",
    "n = sm.symbols('n', positive=True)"
   ]
  },
  {
   "cell_type": "markdown",
   "metadata": {},
   "source": [
    "## $\\Lambda CDM$ Model with Globally Flat Spatial Geometry\n",
    "$$\\Omega(a) = \\frac{1-\\Omega_\\Lambda}{a^3} + \\Omega_\\Lambda$$"
   ]
  },
  {
   "cell_type": "code",
   "execution_count": 3,
   "metadata": {},
   "outputs": [
    {
     "data": {
      "image/png": "[encoded data removed]",
      "text/latex": [
       "$$\\frac{1}{x \\sqrt{\\Omega_{\\Lambda} + \\frac{\\Omega_{M}}{x^{3}}}}$$"
      ],
      "text/plain": [
       "        1         \n",
       "──────────────────\n",
       "       ___________\n",
       "      ╱       Ω_M \n",
       "x⋅   ╱  Ω_Λ + ─── \n",
       "    ╱           3 \n",
       "  ╲╱           x  "
      ]
     },
     "execution_count": 3,
     "metadata": {},
     "output_type": "execute_result"
    }
   ],
   "source": [
    "Omega = OM/x**3 + OL\n",
    "f = 1/(x*sm.sqrt(Omega))\n",
    "f"
   ]
  },
  {
   "cell_type": "markdown",
   "metadata": {},
   "source": [
    "### Compute cosmic time as a function of the scale factor: $t = f(a)$\n",
    "\n",
    "$$t = \\int_0^a \\frac{1}{x \\sqrt{\\Omega_\\Lambda + (1 - \\Omega_\\Lambda) / x^3}} dx$$"
   ]
  },
  {
   "cell_type": "code",
   "execution_count": 4,
   "metadata": {},
   "outputs": [
    {
     "data": {
      "image/png": "[encoded data removed]",
      "text/latex": [
       "$$\\frac{2}{3 \\sqrt{\\Omega_{\\Lambda}}} \\operatorname{asinh}{\\left (\\frac{\\sqrt{\\Omega_{\\Lambda}} a^{\\frac{3}{2}}}{\\sqrt{- \\Omega_{\\Lambda} + 1}} \\right )}$$"
      ],
      "text/plain": [
       "       ⎛  _____  3/2⎞\n",
       "       ⎜╲╱ Ω_Λ ⋅a   ⎟\n",
       "2⋅asinh⎜────────────⎟\n",
       "       ⎜  __________⎟\n",
       "       ⎝╲╱ -Ω_Λ + 1 ⎠\n",
       "─────────────────────\n",
       "          _____      \n",
       "      3⋅╲╱ Ω_Λ       "
      ]
     },
     "execution_count": 4,
     "metadata": {},
     "output_type": "execute_result"
    }
   ],
   "source": [
    "t = sm.integrate(f,(x,0,a)).subs(OM,1-OL)\n",
    "t"
   ]
  },
  {
   "cell_type": "markdown",
   "metadata": {},
   "source": [
    "### Compute scale factor as a function of cosmic time: $a = f^{-1}(t)$ "
   ]
  },
  {
   "cell_type": "code",
   "execution_count": 5,
   "metadata": {},
   "outputs": [
    {
     "data": {
      "image/png": "[encoded data removed]",
      "text/latex": [
       "$$\\sqrt[3]{\\frac{\\Omega_{\\Lambda}}{- \\Omega_{\\Lambda} + 1}} \\sinh^{\\frac{2}{3}}{\\left (\\frac{3 T}{2} \\sqrt{\\Omega_{\\Lambda}} \\right )}$$"
      ],
      "text/plain": [
       "    __________        ⎛    _____  ⎞\n",
       "   ╱   Ω_Λ         2/3⎜3⋅╲╱ Ω_Λ ⋅T⎟\n",
       "3 ╱  ──────── ⋅sinh   ⎜───────────⎟\n",
       "╲╱   -Ω_Λ + 1         ⎝     2     ⎠"
      ]
     },
     "execution_count": 5,
     "metadata": {},
     "output_type": "execute_result"
    }
   ],
   "source": [
    "T=sm.symbols('T')\n",
    "A=(OL/(1-OL))**sm.Rational(1,3) * sm.sinh(3*sm.sqrt(OL)*T/2)**sm.Rational(2,3)\n",
    "A"
   ]
  },
  {
   "cell_type": "markdown",
   "metadata": {},
   "source": [
    "### Compute age of universe in units of the Hubble time $T_0 = 1/H_0$ (Gy)"
   ]
  },
  {
   "cell_type": "code",
   "execution_count": 6,
   "metadata": {},
   "outputs": [
    {
     "name": "stdout",
     "output_type": "stream",
     "text": [
      "Age of universe:       0.96 (1/H0) Gy\n"
     ]
    }
   ],
   "source": [
    "y = t.evalf(n=3,subs={OL:0.69, a:1})\n",
    "print \"Age of universe: %10.2f (1/H0) Gy\" % y"
   ]
  },
  {
   "cell_type": "markdown",
   "metadata": {},
   "source": [
    "### Compute comoving distance $\\chi$ to a galaxy with redshift $z$ in units of the Hubble distance $D_0 = c / H_0$\n",
    "\n",
    "$$\\chi(a) = \\int_a^1 \\frac{1}{x^2 \\sqrt{\\Omega_\\Lambda + (1 - \\Omega_\\Lambda)/x^3}} dx,$$\n",
    "\n",
    "where $a = 1 / (1 + z)$."
   ]
  },
  {
   "cell_type": "code",
   "execution_count": 7,
   "metadata": {},
   "outputs": [
    {
     "data": {
      "image/png": "[encoded data removed]",
      "text/latex": [
       "$$\\frac{1}{x^{2} \\sqrt{\\Omega_{\\Lambda} + \\frac{\\Omega_{M}}{x^{3}}}}$$"
      ],
      "text/plain": [
       "         1         \n",
       "───────────────────\n",
       "        ___________\n",
       " 2     ╱       Ω_M \n",
       "x ⋅   ╱  Ω_Λ + ─── \n",
       "     ╱           3 \n",
       "   ╲╱           x  "
      ]
     },
     "execution_count": 7,
     "metadata": {},
     "output_type": "execute_result"
    }
   ],
   "source": [
    "q = 1/(x**2*sm.sqrt(Omega))\n",
    "q"
   ]
  },
  {
   "cell_type": "code",
   "execution_count": 8,
   "metadata": {
    "scrolled": true
   },
   "outputs": [
    {
     "data": {
      "image/png": "[encoded data removed]",
      "text/latex": [
       "$$- \\frac{\\Gamma{\\left(\\frac{1}{3} \\right)}}{3 \\sqrt{\\Omega_{\\Lambda}} a \\Gamma{\\left(\\frac{4}{3} \\right)}} \\left(a {{}_{2}F_{1}\\left(\\begin{matrix} \\frac{1}{3}, \\frac{1}{2} \\\\ \\frac{4}{3} \\end{matrix}\\middle| {\\frac{e^{i \\pi}}{\\Omega_{\\Lambda}} \\left(- \\Omega_{\\Lambda} + 1\\right)} \\right)} - {{}_{2}F_{1}\\left(\\begin{matrix} \\frac{1}{3}, \\frac{1}{2} \\\\ \\frac{4}{3} \\end{matrix}\\middle| {\\frac{e^{i \\pi}}{\\Omega_{\\Lambda} a^{3}} \\left(- \\Omega_{\\Lambda} + 1\\right)} \\right)}\\right)$$"
      ],
      "text/plain": [
       " ⎛       ⎛         │             ⅈ⋅π⎞        ⎛         │             ⅈ⋅π⎞⎞    \n",
       " ⎜   ┌─  ⎜1/3, 1/2 │ (-Ω_Λ + 1)⋅ℯ   ⎟    ┌─  ⎜1/3, 1/2 │ (-Ω_Λ + 1)⋅ℯ   ⎟⎟    \n",
       "-⎜a⋅ ├─  ⎜         │ ───────────────⎟ -  ├─  ⎜         │ ───────────────⎟⎟⋅Γ(1\n",
       " ⎜  2╵ 1 ⎝  4/3    │       Ω_Λ      ⎠   2╵ 1 ⎜  4/3    │           3    ⎟⎟    \n",
       " ⎝                                           ⎝         │      Ω_Λ⋅a     ⎠⎠    \n",
       "──────────────────────────────────────────────────────────────────────────────\n",
       "                                    _____                                     \n",
       "                                3⋅╲╱ Ω_Λ ⋅a⋅Γ(4/3)                            \n",
       "\n",
       "    \n",
       "    \n",
       "/3) \n",
       "    \n",
       "    \n",
       "────\n",
       "    \n",
       "    "
      ]
     },
     "execution_count": 8,
     "metadata": {},
     "output_type": "execute_result"
    }
   ],
   "source": [
    "chi = sm.simplify(sm.integrate(q,(x,a,1))).subs(OM, 1-OL)\n",
    "chi"
   ]
  },
  {
   "cell_type": "markdown",
   "metadata": {},
   "source": [
    "#### Check solution\n",
    "The derivative of the integral with respect to $a$ should equal the integrand."
   ]
  },
  {
   "cell_type": "code",
   "execution_count": 9,
   "metadata": {},
   "outputs": [],
   "source": [
    "o = -sm.diff(chi, a)"
   ]
  },
  {
   "cell_type": "code",
   "execution_count": 10,
   "metadata": {},
   "outputs": [
    {
     "name": "stdout",
     "output_type": "stream",
     "text": [
      "2.54925\n",
      "2.54925\n"
     ]
    }
   ],
   "source": [
    "z=sm.pi\n",
    "L=1.0/sm.E\n",
    "print o.evalf(n=6, subs={OL:L, a:1.0/(1+z)})\n",
    "print q.evalf(n=6, subs={OL:L, OM:1-L, x:1.0/(1+z)})"
   ]
  },
  {
   "cell_type": "markdown",
   "metadata": {},
   "source": [
    "### Exercises\n",
    "  1. What is the lookback time to a galaxy with redshift $z = 10$?\n",
    "  1. How far away is the galaxy today?\n",
    "  1. How far away was the galaxy when the light, now being received, was emitted?\n",
    "  \n",
    "  \n",
    "#### 1. Lookback time\n",
    "By definition, \n",
    "$t_\\textrm{lookback} = t(1) - t(a)$, where $a  = 1/(1+z)$ and $z$ is the redshift of the galaxy.\n",
    "\n",
    "#### 2., 3. Distances now and then\n",
    "The proper distance at time $t$ since the Big Bang is given by $d(t) = a(t) \\chi$, where $\\chi$ is the proper distance today, which by choice equals the comoving distance. "
   ]
  },
  {
   "cell_type": "code",
   "execution_count": 11,
   "metadata": {},
   "outputs": [],
   "source": [
    "z      = 10.0\n",
    "a_then = 1.0/(1+z)\n",
    "Omega_L= 0.69"
   ]
  },
  {
   "cell_type": "code",
   "execution_count": 12,
   "metadata": {},
   "outputs": [
    {
     "name": "stdout",
     "output_type": "stream",
     "text": [
      "lookback time to galaxy:  0.922 (1/H0) Gy\n",
      "Distance now:             2.178 (c/H0) Gly\n",
      "Distance then:            0.198 (c/H0) Gly\n"
     ]
    }
   ],
   "source": [
    "tlb    = t.evalf(subs={OL:0.69, a:1}) - t.evalf(subs={OL:Omega_L, a:a_then})\n",
    "d_now  = chi.evalf(n=3, subs={OL:Omega_L, a:a_then})\n",
    "d_then = a_then * d_now\n",
    "\n",
    "print \"lookback time to galaxy: %6.3f (1/H0) Gy\" %  tlb\n",
    "print \"Distance now:            %6.3f (c/H0) Gly\" % d_now\n",
    "print \"Distance then:           %6.3f (c/H0) Gly\" % d_then"
   ]
  },
  {
   "cell_type": "markdown",
   "metadata": {},
   "source": [
    "## Phantom Energy Model"
   ]
  },
  {
   "cell_type": "markdown",
   "metadata": {},
   "source": [
    "### Compute cosmic time as a function of the scale factor: $t = f(a)$\n",
    "$$t_\\textrm{phantom} = \\int_0^a \\frac{1}{x \\sqrt{\\exp(x^n - 1)/x^3}} dx$$"
   ]
  },
  {
   "cell_type": "code",
   "execution_count": 14,
   "metadata": {},
   "outputs": [
    {
     "data": {
      "image/png": "[encoded data removed]",
      "text/latex": [
       "$$\\sqrt{a} e^{\\frac{1}{2}} e^{- \\frac{a^{n}}{2}}$$"
      ],
      "text/plain": [
       "           n \n",
       "         -a  \n",
       "         ────\n",
       "    1/2   2  \n",
       "√a⋅ℯ   ⋅ℯ    "
      ]
     },
     "execution_count": 14,
     "metadata": {},
     "output_type": "execute_result"
    }
   ],
   "source": [
    "g = sm.sqrt(a)*sm.sqrt(sm.exp(1))*sm.exp(-a**n/2)\n",
    "g"
   ]
  },
  {
   "cell_type": "code",
   "execution_count": 15,
   "metadata": {},
   "outputs": [
    {
     "data": {
      "image/png": "[encoded data removed]",
      "text/latex": [
       "$$\\frac{2^{\\frac{3}{2 n}}}{n} e^{\\frac{1}{2}} \\gamma\\left(\\frac{3}{2 n}, \\frac{a^{n}}{2}\\right)$$"
      ],
      "text/plain": [
       "  3                 \n",
       " ───       ⎛      n⎞\n",
       " 2⋅n  1/2  ⎜ 3   a ⎟\n",
       "2   ⋅ℯ   ⋅γ⎜───, ──⎟\n",
       "           ⎝2⋅n  2 ⎠\n",
       "────────────────────\n",
       "         n          "
      ]
     },
     "execution_count": 15,
     "metadata": {},
     "output_type": "execute_result"
    }
   ],
   "source": [
    "t_p = sm.simplify(sm.integrate(g,a))\n",
    "t_p"
   ]
  },
  {
   "cell_type": "markdown",
   "metadata": {},
   "source": [
    "### Compute comoving distance $\\chi$ to a galaxy with redshift $z$ in units of the Hubble distance $D_0 = c / H_0$\n",
    "\n",
    "$$\\chi_p(a) = \\int_a^1 \\frac{1}{x^2 \\sqrt{\\exp(x^n - 1)/x^3}} dx,$$\n",
    "\n",
    "where $a = 1 / (1 + z)$."
   ]
  },
  {
   "cell_type": "code",
   "execution_count": 16,
   "metadata": {},
   "outputs": [
    {
     "data": {
      "image/png": "[encoded data removed]",
      "text/latex": [
       "$$\\frac{e^{\\frac{1}{2}}}{\\sqrt{x}} e^{- \\frac{x^{n}}{2}}$$"
      ],
      "text/plain": [
       "        n \n",
       "      -x  \n",
       "      ────\n",
       " 1/2   2  \n",
       "ℯ   ⋅ℯ    \n",
       "──────────\n",
       "    √x    "
      ]
     },
     "execution_count": 16,
     "metadata": {},
     "output_type": "execute_result"
    }
   ],
   "source": [
    "q_p = sm.sqrt(sm.exp(1))*sm.exp(-x**n/2)/sm.sqrt(x)\n",
    "q_p"
   ]
  },
  {
   "cell_type": "code",
   "execution_count": 18,
   "metadata": {},
   "outputs": [
    {
     "data": {
      "image/png": "[encoded data removed]",
      "text/latex": [
       "$$\\frac{2^{\\frac{1}{2 n}}}{n} \\left(\\gamma\\left(\\frac{1}{2 n}, \\frac{1}{2}\\right) - \\gamma\\left(\\frac{1}{2 n}, \\frac{a^{n}}{2}\\right)\\right) e^{\\frac{1}{2}}$$"
      ],
      "text/plain": [
       "  1                                 \n",
       " ─── ⎛               ⎛      n⎞⎞     \n",
       " 2⋅n ⎜ ⎛ 1      ⎞    ⎜ 1   a ⎟⎟  1/2\n",
       "2   ⋅⎜γ⎜───, 1/2⎟ - γ⎜───, ──⎟⎟⋅ℯ   \n",
       "     ⎝ ⎝2⋅n     ⎠    ⎝2⋅n  2 ⎠⎠     \n",
       "────────────────────────────────────\n",
       "                 n                  "
      ]
     },
     "execution_count": 18,
     "metadata": {},
     "output_type": "execute_result"
    }
   ],
   "source": [
    "chi_p = sm.simplify(sm.integrate(q_p,(x,a,1)))\n",
    "chi_p"
   ]
  },
  {
   "cell_type": "code",
   "execution_count": 19,
   "metadata": {},
   "outputs": [
    {
     "name": "stdout",
     "output_type": "stream",
     "text": [
      "\\frac{2^{\\frac{1}{2 n}}}{n} \\left(\\gamma\\left(\\frac{1}{2 n}, \\frac{1}{2}\\right) - \\gamma\\left(\\frac{1}{2 n}, \\frac{a^{n}}{2}\\right)\\right) e^{\\frac{1}{2}}\n"
     ]
    }
   ],
   "source": [
    "print sm.latex(chi_p)"
   ]
  },
  {
   "cell_type": "markdown",
   "metadata": {},
   "source": [
    "#### Check solution\n",
    "The derivative of the integral with respect to $a$ should equal the integrand."
   ]
  },
  {
   "cell_type": "code",
   "execution_count": 20,
   "metadata": {},
   "outputs": [],
   "source": [
    "o_p = -sm.diff(chi_p, a)"
   ]
  },
  {
   "cell_type": "code",
   "execution_count": 21,
   "metadata": {},
   "outputs": [
    {
     "name": "stdout",
     "output_type": "stream",
     "text": [
      "5.46503\n",
      "5.46503\n"
     ]
    }
   ],
   "source": [
    "n_p=2.82\n",
    "z_p=sm.pi\n",
    "L_p=1.0/sm.E\n",
    "print o_p.evalf(n=6, subs={n:n_p, a:1.0/(1+z)})\n",
    "print q_p.evalf(n=6, subs={n:n_p, x:1.0/(1+z)})"
   ]
  },
  {
   "cell_type": "markdown",
   "metadata": {},
   "source": [
    "### Compute age of universe in units of the Hubble time, $T_0 = 1/H_0$"
   ]
  },
  {
   "cell_type": "code",
   "execution_count": 22,
   "metadata": {},
   "outputs": [
    {
     "name": "stdout",
     "output_type": "stream",
     "text": [
      "Age of universe today:  0.93 (1/H0) Gy\n"
     ]
    }
   ],
   "source": [
    "y = t_p.evalf(n=3,subs={n:n_p, a:1})\n",
    "print \"Age of universe today: %5.2f (1/H0) Gy\" % y"
   ]
  },
  {
   "cell_type": "markdown",
   "metadata": {},
   "source": [
    "### Time of Big Rip in units of the Hubble time"
   ]
  },
  {
   "cell_type": "code",
   "execution_count": 23,
   "metadata": {},
   "outputs": [
    {
     "name": "stdout",
     "output_type": "stream",
     "text": [
      "Age of universe at Big Rip:  1.41 (1/H0) Gy\n"
     ]
    }
   ],
   "source": [
    "y = t_p.evalf(n=3,subs={n:n_p, a:sm.oo})\n",
    "print \"Age of universe at Big Rip: %5.2f (1/H0) Gy\" % y"
   ]
  },
  {
   "cell_type": "markdown",
   "metadata": {},
   "source": [
    "#### Exercises"
   ]
  },
  {
   "cell_type": "code",
   "execution_count": 24,
   "metadata": {},
   "outputs": [
    {
     "name": "stdout",
     "output_type": "stream",
     "text": [
      "lookback time to galaxy:  0.904 (1/H0) Gy\n",
      "distance now:             2.085 (c/H0) Gly\n",
      "distance then:            0.190 (c/H0) Gly\n"
     ]
    }
   ],
   "source": [
    "tlb_p  = t_p.evalf(subs={n:n_p, a:1}) - t_p.evalf(subs={n:n_p, a:a_then})\n",
    "d_now  = chi_p.evalf(n=3, subs={n:n_p, a:a_then})\n",
    "d_then = a_then * d_now\n",
    "\n",
    "print \"lookback time to galaxy: %6.3f (1/H0) Gy\" % tlb_p\n",
    "print \"distance now:            %6.3f (c/H0) Gly\" % d_now\n",
    "print \"distance then:           %6.3f (c/H0) Gly\" % d_then"
   ]
  },
  {
   "cell_type": "code",
   "execution_count": null,
   "metadata": {},
   "outputs": [],
   "source": []
  }
 ],
 "metadata": {
  "kernelspec": {
   "display_name": "Python 2",
   "language": "python",
   "name": "python2"
  },
  "language_info": {
   "codemirror_mode": {
    "name": "ipython",
    "version": 2
   },
   "file_extension": ".py",
   "mimetype": "text/x-python",
   "name": "python",
   "nbconvert_exporter": "python",
   "pygments_lexer": "ipython2",
   "version": "2.7.14"
  }
 },
 "nbformat": 4,
 "nbformat_minor": 1
}
