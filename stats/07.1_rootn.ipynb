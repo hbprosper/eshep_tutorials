{
 "cells": [
  {
   "cell_type": "markdown",
   "metadata": {},
   "source": [
    "# Exercise 7.1: $\\sqrt{N}$ Upper Limits\n",
    " >__Created__:  29 Sep. 2017 Harrison B. Prosper\n",
    " \n",
    " >__Updated__:  25 Jun. 2018, adaped for ESHEP 18, HBP\n",
    "\n",
    "\n",
    "In this exercise, we shall determine the relative\n",
    "frequency with which statements of the form  $$N + \\sqrt{N} > \\theta,$$\n",
    "are true in an ensemble of 10,000 experiments, each associated with a _different_ mean count $\\theta$.\n",
    "We assume that each experiment yields a _single_ count $N$. Note that in the real world, unless the phenomenon being\n",
    "investigated does not exist - in which case the mean count is zero, it is highly unlikely that every\n",
    "experiment in a\n",
    "random collection of experiments would be associated with _exactly_ the same mean count. \n",
    "\n",
    "We shall simulate \n",
    " such an ensemble of experiments by \n",
    "sampling their _mean_ counts from a uniform distribution,\n",
    "$\\textrm{uniform}(0, b) = 1 \\, / \\, b$,\n",
    "with mean $b = 3$.  \n",
    "\n",
    "__TRandom3__ will be used to generate the sequences of random numbers.\n",
    "   * $N_\\textrm{exp}$ number of experiments\n",
    "   * $b$ range of uniform density\n",
    "   \n",
    "Each experiment obtains a count $N$. The statement $$N + \\sqrt{N} > \\theta,$$ is either _True_ of _False_, where $\\theta$ is the mean count for that experiment. Ordinarily, we do not know the mean count $\\theta$ associated with an experiment. However, in a simulated world we typically do. Therefore, we can determine whether or not each statement is true. In the limit of an infinitely large ensemble of experiments, the relative frequency with which statements of the form $N + \\sqrt{N} > \\theta$ are true is called the __coverage__ probability. Note: the latter is a property of the *ensemble* to which the statements belong and *not* a property of any given statement. Consequently, if a given statement is *imagined* to be a embedded in a different ensemble, then, in general, the coverage probability will change. This is an example of the *reference class problem*. Absolute probabilities do not exist; all are conditional.\n",
    "\n",
    "__The Frequentist Principle__ The goal of frequentist analyses is to guarantee the following: over an (infinite) ensemble of statements, *which could be about different things*, a minimum fraction, CL, of these statements are true. The CL is called the __confidence level__. The clever thing is to invent procedures in which the CL is specified _a priori_. For Gaussian random variables $x$ statements of the form $\\mu \\in [x - \\sigma, x + \\sigma]$, where $\\mu$ is the mean of the Gaussian, which can vary from one  experiment to the next, are true 68.3% of the time.\n"
   ]
  },
  {
   "cell_type": "code",
   "execution_count": 1,
   "metadata": {},
   "outputs": [
    {
     "name": "stdout",
     "output_type": "stream",
     "text": [
      "Welcome to JupyROOT 6.12/06\n"
     ]
    }
   ],
   "source": [
    "import os, sys\n",
    "import ROOT\n",
    "%jsroot off"
   ]
  },
  {
   "cell_type": "code",
   "execution_count": 2,
   "metadata": {},
   "outputs": [],
   "source": [
    "Nexp = 10000  # number of experiments/statements\n",
    "b    = 3.0    # range of uniform distribution\n",
    "ran  = ROOT.TRandom3() # This has a cycle of 2^19937 - 1 ~ 10^6001"
   ]
  },
  {
   "cell_type": "markdown",
   "metadata": {},
   "source": [
    "__Model the experiments__\n",
    "\n",
    "In the following, we use a Python programming construct called __list comprehension__ to create one Python list from another. The syntax is\n",
    "```python\n",
    "    alist = [ expression for loop expression involving a list ]\n",
    "```\n"
   ]
  },
  {
   "cell_type": "code",
   "execution_count": 3,
   "metadata": {},
   "outputs": [],
   "source": [
    "def performExperiments(Nexp, b, ran):\n",
    "    from math import sqrt, exp\n",
    "    \n",
    "    # generate Nexp mean values\n",
    "    theta = [ran.Uniform(0, b) for i in xrange(Nexp)]\n",
    "    \n",
    "    # generate Nexp experimental outcomes\n",
    "    N  = [ran.Poisson(mean) for mean in theta]\n",
    "\n",
    "    # compute upper limits\n",
    "    U = [x + sqrt(x) for x in N]\n",
    "\n",
    "    return (theta, N, U)        "
   ]
  },
  {
   "cell_type": "code",
   "execution_count": 4,
   "metadata": {},
   "outputs": [
    {
     "name": "stdout",
     "output_type": "stream",
     "text": [
      "theta   3.00  0.49  0.85  2.84  0.69  1.45  2.87  2.23  1.62  2.22\n",
      "N       3.00  0.00  5.00  2.00  1.00  1.00  6.00  3.00  1.00  3.00\n",
      "U       4.73  0.00  7.24  3.41  2.00  2.00  8.45  4.73  2.00  4.73\n"
     ]
    }
   ],
   "source": [
    "theta, N, U = performExperiments(Nexp, b, ran)\n",
    "\n",
    "K   = 10\n",
    "fmt = ' %5.2f' * K\n",
    "print 'theta', fmt % tuple(theta[:K])\n",
    "print 'N    ', fmt % tuple(N[:K])\n",
    "print 'U    ', fmt % tuple(U[:K])"
   ]
  },
  {
   "cell_type": "markdown",
   "metadata": {},
   "source": [
    "__Analyze results of experiments__ \n",
    "\n",
    "Relative frequency $p = k \\, / \\, n$ with rough measure of uncertainty $\\sqrt{n p (1 - p)} \\, / \\, n$."
   ]
  },
  {
   "cell_type": "code",
   "execution_count": 5,
   "metadata": {},
   "outputs": [],
   "source": [
    "def computeCoverage(theta, U): \n",
    "    from math import sqrt\n",
    "    \n",
    "    # number of experiments\n",
    "    n = len(theta)\n",
    "    \n",
    "    # count number of true statements\n",
    "    t  = [ U[i] > theta[i] for i in range(n) ]\n",
    "    \n",
    "    # compute coverage fraction (i.e., fraction of true statements)\n",
    "    k  = sum(t)\n",
    "    p  = float(k)/n\n",
    "    \n",
    "    # since we have k true statements our of n, this is a binomial\n",
    "    # problem with variance n*p*(1-p). Therefore, a rough estimate\n",
    "    # of the uncertainty in p is\n",
    "    dp = sqrt(n*p*(1-p))/n\n",
    "    \n",
    "    return (p, dp)"
   ]
  },
  {
   "cell_type": "code",
   "execution_count": 6,
   "metadata": {},
   "outputs": [
    {
     "name": "stdout",
     "output_type": "stream",
     "text": [
      "coverage:    0.617    0.005\n"
     ]
    }
   ],
   "source": [
    "results = computeCoverage(theta, U)\n",
    "print \"coverage: %8.3f %8.3f\" % results"
   ]
  },
  {
   "cell_type": "code",
   "execution_count": null,
   "metadata": {},
   "outputs": [],
   "source": []
  }
 ],
 "metadata": {
  "kernelspec": {
   "display_name": "Python 2",
   "language": "python",
   "name": "python2"
  },
  "language_info": {
   "codemirror_mode": {
    "name": "ipython",
    "version": 2
   },
   "file_extension": ".py",
   "mimetype": "text/x-python",
   "name": "python",
   "nbconvert_exporter": "python",
   "pygments_lexer": "ipython2",
   "version": "2.7.14"
  }
 },
 "nbformat": 4,
 "nbformat_minor": 1
}
